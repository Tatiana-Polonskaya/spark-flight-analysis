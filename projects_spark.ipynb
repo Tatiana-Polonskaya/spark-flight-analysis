{
 "cells": [
  {
   "cell_type": "code",
   "execution_count": 1,
   "id": "75d9d25b-ca14-46ae-818f-ef7484c912be",
   "metadata": {},
   "outputs": [],
   "source": [
    "import os\n",
    "import warnings\n",
    "warnings.simplefilter(action='ignore', category=FutureWarning)\n",
    "warnings.filterwarnings(action='ignore')"
   ]
  },
  {
   "cell_type": "code",
   "execution_count": 2,
   "id": "163d1cf3-96a4-4fad-91f4-8f4e70c76a15",
   "metadata": {},
   "outputs": [
    {
     "name": "stdout",
     "output_type": "stream",
     "text": [
      "23/06/21 09:46:01 WARN Utils: Your hostname, delany resolves to a loopback address: 127.0.0.1; using 192.168.0.2 instead (on interface eth0)\n",
      "23/06/21 09:46:01 WARN Utils: Set SPARK_LOCAL_IP if you need to bind to another address\n",
      "WARNING: An illegal reflective access operation has occurred\n",
      "WARNING: Illegal reflective access by org.apache.spark.unsafe.Platform (file:/usr/local/lib/python3.6/dist-packages/pyspark/jars/spark-unsafe_2.12-3.2.4.jar) to constructor java.nio.DirectByteBuffer(long,int)\n",
      "WARNING: Please consider reporting this to the maintainers of org.apache.spark.unsafe.Platform\n",
      "WARNING: Use --illegal-access=warn to enable warnings of further illegal reflective access operations\n",
      "WARNING: All illegal access operations will be denied in a future release\n",
      "Welcome to\n",
      "      ____              __\n",
      "     / __/__  ___ _____/ /__\n",
      "    _\\ \\/ _ \\/ _ `/ __/  '_/\n",
      "   /___/ .__/\\_,_/_/ /_/\\_\\   version 3.2.4\n",
      "      /_/\n",
      "                        \n",
      "Using Scala version 2.12.15, OpenJDK 64-Bit Server VM, 11.0.19\n",
      "Branch HEAD\n",
      "Compiled by user centos on 2023-04-09T20:59:10Z\n",
      "Revision 0ae10ac18298d1792828f1d59b652ef17462d76e\n",
      "Url https://github.com/apache/spark\n",
      "Type --help for more information.\n"
     ]
    }
   ],
   "source": [
    "!pyspark --version"
   ]
  },
  {
   "cell_type": "code",
   "execution_count": 3,
   "id": "6cb77d96-a73f-4a14-aff5-599e28265ea4",
   "metadata": {},
   "outputs": [
    {
     "name": "stdout",
     "output_type": "stream",
     "text": [
      "Collecting pyspark\n",
      "  Downloading pyspark-3.2.4.tar.gz (281.5 MB)\n",
      "     |████████████████████████████████| 281.5 MB 57 kB/s              \n",
      "\u001b[?25h  Preparing metadata (setup.py) ... \u001b[?25ldone\n",
      "\u001b[?25hCollecting py4j==0.10.9.5\n",
      "  Downloading py4j-0.10.9.5-py2.py3-none-any.whl (199 kB)\n",
      "     |████████████████████████████████| 199 kB 72.7 MB/s            \n",
      "\u001b[?25hBuilding wheels for collected packages: pyspark\n",
      "  Building wheel for pyspark (setup.py) ... \u001b[?25ldone\n",
      "\u001b[?25h  Created wheel for pyspark: filename=pyspark-3.2.4-py2.py3-none-any.whl size=282040934 sha256=5c908fe16b0c26c658a1893a87a01eb31f4df902bedcaaa7492440e9ae3109bd\n",
      "  Stored in directory: /root/.cache/pip/wheels/7f/b5/ab/6fbc298426a10c8a27065ed80da7241e60146d770f41c80b4d\n",
      "Successfully built pyspark\n",
      "Installing collected packages: py4j, pyspark\n",
      "Successfully installed py4j-0.10.9.5 pyspark-3.2.4\n",
      "\u001b[33mWARNING: Running pip as the 'root' user can result in broken permissions and conflicting behaviour with the system package manager. It is recommended to use a virtual environment instead: https://pip.pypa.io/warnings/venv\u001b[0m\n"
     ]
    }
   ],
   "source": [
    "!pip install pyspark"
   ]
  },
  {
   "cell_type": "code",
   "execution_count": 3,
   "id": "43c1e085-2698-432e-a5cf-bc21e1dee849",
   "metadata": {},
   "outputs": [
    {
     "name": "stderr",
     "output_type": "stream",
     "text": [
      "/usr/local/lib/python3.6/dist-packages/pyspark/context.py:238: FutureWarning: Python 3.6 support is deprecated in Spark 3.2.\n",
      "  FutureWarning\n"
     ]
    }
   ],
   "source": [
    "from pyspark.sql import SparkSession\n",
    "\n",
    "spark = SparkSession \\\n",
    "    .builder \\\n",
    "    .appName(\"Python Spark SQL basic example\") \\\n",
    "    .getOrCreate()"
   ]
  },
  {
   "cell_type": "code",
   "execution_count": 104,
   "id": "d1327410-7db6-45b2-923b-0926c4a156c4",
   "metadata": {},
   "outputs": [],
   "source": [
    "import os\n",
    "import matplotlib.pyplot as plt"
   ]
  },
  {
   "cell_type": "markdown",
   "id": "c36f26b9-2fd7-447b-be3f-28b53ff741f8",
   "metadata": {},
   "source": [
    "Чтение всех данных"
   ]
  },
  {
   "cell_type": "code",
   "execution_count": 23,
   "id": "2efba7ca-0abb-423d-ac3c-9c7cb1ab8620",
   "metadata": {},
   "outputs": [
    {
     "name": "stdout",
     "output_type": "stream",
     "text": [
      "['CLASS_052018.csv', 'CLASS_122018.csv', 'CLASS_102018.csv', 'CLASS_032018.csv', 'CLASS_022018.csv', 'CLASS_062018.csv', 'CLASS_072018.csv', 'CLASS_012018.csv', 'CLASS_092018.csv', 'CLASS_112018.csv', '.ipynb_checkpoints', 'CLASS_042018.csv', 'CLASS_082018.csv']\n"
     ]
    }
   ],
   "source": [
    "path_data = '/home/data'\n",
    "files = os.listdir(path_data)\n",
    "\n",
    "print(files)"
   ]
  },
  {
   "cell_type": "code",
   "execution_count": 24,
   "id": "fb9085b2-beed-4673-bd73-d3e015a3c764",
   "metadata": {},
   "outputs": [],
   "source": [
    "df2 = spark.read.options(delimiter=\";\",header=True).csv(path_data+'/'+files[0])"
   ]
  },
  {
   "cell_type": "code",
   "execution_count": 25,
   "id": "bfbe1d24-1640-4a33-bf59-5007aea56149",
   "metadata": {},
   "outputs": [
    {
     "name": "stdout",
     "output_type": "stream",
     "text": [
      "['CLASS_052018.csv', 'CLASS_122018.csv', 'CLASS_102018.csv', 'CLASS_032018.csv', 'CLASS_022018.csv', 'CLASS_062018.csv', 'CLASS_072018.csv', 'CLASS_012018.csv', 'CLASS_092018.csv', 'CLASS_112018.csv', '.ipynb_checkpoints', 'CLASS_042018.csv', 'CLASS_082018.csv']\n"
     ]
    }
   ],
   "source": [
    "print(files)"
   ]
  },
  {
   "cell_type": "code",
   "execution_count": 27,
   "id": "2d8441ec-bbf3-4edf-855a-d213255edc27",
   "metadata": {},
   "outputs": [
    {
     "name": "stdout",
     "output_type": "stream",
     "text": [
      "file concat ok CLASS_122018.csv\n",
      "file concat ok CLASS_102018.csv\n",
      "file concat ok CLASS_032018.csv\n",
      "file concat ok CLASS_022018.csv\n",
      "file concat ok CLASS_062018.csv\n",
      "file concat ok CLASS_072018.csv\n",
      "file concat ok CLASS_012018.csv\n",
      "file concat ok CLASS_092018.csv\n",
      "file concat ok CLASS_112018.csv\n",
      "file concat ok CLASS_042018.csv\n",
      "file concat ok CLASS_082018.csv\n",
      "4756180 17\n"
     ]
    }
   ],
   "source": [
    "for idx in range(1,len(files)):\n",
    "    if(files[idx] != '.ipynb_checkpoints'):\n",
    "        temp = spark.read.options(delimiter=\";\",header=True).csv(path_data+'/'+files[idx])\n",
    "        df2.union(temp)\n",
    "        print(\"file concat ok\", files[idx])\n",
    "    \n",
    "print(df2.count(),len(df2.columns))    "
   ]
  },
  {
   "cell_type": "code",
   "execution_count": 142,
   "id": "b62880a1-a205-47db-84ae-f94d18231f1d",
   "metadata": {},
   "outputs": [],
   "source": [
    "one_race = df2.where(df2.FLT_NUM == '1642')"
   ]
  },
  {
   "cell_type": "code",
   "execution_count": 143,
   "id": "8444b26f-d3ba-4811-89a4-4e4d647b486b",
   "metadata": {},
   "outputs": [
    {
     "name": "stdout",
     "output_type": "stream",
     "text": [
      "144210 17\n"
     ]
    }
   ],
   "source": [
    "print(one_race.count(),len(one_race.columns))    "
   ]
  },
  {
   "cell_type": "code",
   "execution_count": 144,
   "id": "4a866ebb-d417-45dd-bdb2-0a411b41d2c8",
   "metadata": {},
   "outputs": [],
   "source": [
    "one_race.write.option(\"header\", True).option(\"delimiter\",\",\").csv(\"race_1642.csv\")"
   ]
  },
  {
   "cell_type": "code",
   "execution_count": 28,
   "id": "1342dfdf-912d-4a70-be28-c1d7d1bf0ccb",
   "metadata": {},
   "outputs": [
    {
     "name": "stdout",
     "output_type": "stream",
     "text": [
      "+----------+---+-------+----------+-------+----+----+-----+--------------+----+------+-------+---+---+--------+---+---+\n",
      "|SDAT_S    |SAK|FLT_NUM|DD        |SEG_NUM|SORG|SDST|SSCL1|SEG_CLASS_CODE|NBCL|FCLCLD|PASS_BK|SA |AU |PASS_DEP|NS |DTD|\n",
      "+----------+---+-------+----------+-------+----+----+-----+--------------+----+------+-------+---+---+--------+---+---+\n",
      "|05.05.2018|SU |1174   |04.05.2018|1      |SVO |ASF |Y    |R             |N   |1     |0      |0  |89 |0       |0  |-1 |\n",
      "|05.05.2018|SU |1174   |04.05.2018|1      |SVO |ASF |Y    |G             |R   |1     |0      |0  |89 |0       |0  |-1 |\n",
      "|05.05.2018|SU |1174   |04.05.2018|1      |SVO |ASF |Y    |V             |G   |1     |0      |0  |89 |0       |0  |-1 |\n",
      "|05.05.2018|SU |1175   |04.05.2018|1      |ASF |SVO |C    |J             |    |1     |4      |0  |8  |4       |0  |-1 |\n",
      "|05.05.2018|SU |1175   |04.05.2018|1      |ASF |SVO |C    |C             |J   |1     |2      |0  |6  |2       |0  |-1 |\n",
      "|05.05.2018|SU |1175   |04.05.2018|1      |ASF |SVO |C    |D             |C   |1     |2      |0  |4  |2       |0  |-1 |\n",
      "|05.05.2018|SU |1175   |04.05.2018|1      |ASF |SVO |C    |I             |D   |1     |0      |0  |3  |0       |0  |-1 |\n",
      "|05.05.2018|SU |1175   |04.05.2018|1      |ASF |SVO |C    |Z             |I   |1     |0      |0  |3  |0       |0  |-1 |\n",
      "|05.05.2018|SU |1175   |04.05.2018|1      |ASF |SVO |C    |O             |Z   |1     |0      |0  |3  |0       |0  |-1 |\n",
      "|05.05.2018|SU |1175   |04.05.2018|1      |ASF |SVO |Y    |Y             |    |1     |1      |0  |150|1       |0  |-1 |\n",
      "+----------+---+-------+----------+-------+----+----+-----+--------------+----+------+-------+---+---+--------+---+---+\n",
      "only showing top 10 rows\n",
      "\n"
     ]
    }
   ],
   "source": [
    "df2.show(10,False)"
   ]
  },
  {
   "cell_type": "code",
   "execution_count": 29,
   "id": "ac38e6ca-8831-4209-a08b-ea980ea626b5",
   "metadata": {},
   "outputs": [
    {
     "name": "stdout",
     "output_type": "stream",
     "text": [
      "root\n",
      " |-- SDAT_S: string (nullable = true)\n",
      " |-- SAK: string (nullable = true)\n",
      " |-- FLT_NUM: string (nullable = true)\n",
      " |-- DD: string (nullable = true)\n",
      " |-- SEG_NUM: string (nullable = true)\n",
      " |-- SORG: string (nullable = true)\n",
      " |-- SDST: string (nullable = true)\n",
      " |-- SSCL1: string (nullable = true)\n",
      " |-- SEG_CLASS_CODE: string (nullable = true)\n",
      " |-- NBCL: string (nullable = true)\n",
      " |-- FCLCLD: string (nullable = true)\n",
      " |-- PASS_BK: string (nullable = true)\n",
      " |-- SA: string (nullable = true)\n",
      " |-- AU: string (nullable = true)\n",
      " |-- PASS_DEP: string (nullable = true)\n",
      " |-- NS: string (nullable = true)\n",
      " |-- DTD: string (nullable = true)\n",
      "\n"
     ]
    }
   ],
   "source": [
    "df2.printSchema()"
   ]
  },
  {
   "cell_type": "markdown",
   "id": "5de855cb-4058-40ca-96ad-6549159161de",
   "metadata": {},
   "source": [
    "## Preproccessing"
   ]
  },
  {
   "cell_type": "code",
   "execution_count": 16,
   "id": "4a062d41-6d95-4f3f-ba7c-423f481e3e55",
   "metadata": {},
   "outputs": [],
   "source": [
    "from pyspark.sql.functions import to_date,  col,expr\n",
    "import pyspark.sql.functions as F"
   ]
  },
  {
   "cell_type": "code",
   "execution_count": 30,
   "id": "632766f7-2a2b-431b-946f-c03c92abe48e",
   "metadata": {},
   "outputs": [],
   "source": [
    "df = df2.alias(\"df\")"
   ]
  },
  {
   "cell_type": "code",
   "execution_count": 31,
   "id": "d29638c5-c7d3-43be-af27-b60ec3522711",
   "metadata": {},
   "outputs": [],
   "source": [
    "df = df.select(\"*\",to_date(df.DD, 'dd.MM.yyyy').alias(\"new_DD\"))"
   ]
  },
  {
   "cell_type": "code",
   "execution_count": 32,
   "id": "ae4d8ae4-024b-4f3d-b6c7-0bb2bd52dd1c",
   "metadata": {},
   "outputs": [],
   "source": [
    "df = df.select(\"*\",\\\n",
    "               F.year(\"new_DD\").alias(\"year\"),\\\n",
    "               F.month(\"new_DD\").alias(\"month\"),\\\n",
    "               F.dayofmonth(\"new_DD\").alias(\"dayofmonth\"),\\\n",
    "               F.dayofweek(\"new_DD\").alias(\"dayofweek\"),\\\n",
    "               F.quarter(\"new_DD\").alias(\"quarter\"))"
   ]
  },
  {
   "cell_type": "markdown",
   "id": "cfb4787d-cfc6-4b85-b20a-5f90d233ab61",
   "metadata": {},
   "source": [
    "Select only useful cols for researching"
   ]
  },
  {
   "cell_type": "code",
   "execution_count": 33,
   "id": "2878b807-d477-4f04-b332-6844f8019cbb",
   "metadata": {},
   "outputs": [
    {
     "name": "stdout",
     "output_type": "stream",
     "text": [
      "root\n",
      " |-- SDAT_S: string (nullable = true)\n",
      " |-- SAK: string (nullable = true)\n",
      " |-- FLT_NUM: string (nullable = true)\n",
      " |-- DD: string (nullable = true)\n",
      " |-- SEG_NUM: string (nullable = true)\n",
      " |-- SORG: string (nullable = true)\n",
      " |-- SDST: string (nullable = true)\n",
      " |-- SSCL1: string (nullable = true)\n",
      " |-- SEG_CLASS_CODE: string (nullable = true)\n",
      " |-- NBCL: string (nullable = true)\n",
      " |-- FCLCLD: string (nullable = true)\n",
      " |-- PASS_BK: string (nullable = true)\n",
      " |-- SA: string (nullable = true)\n",
      " |-- AU: string (nullable = true)\n",
      " |-- PASS_DEP: string (nullable = true)\n",
      " |-- NS: string (nullable = true)\n",
      " |-- DTD: string (nullable = true)\n",
      " |-- new_DD: date (nullable = true)\n",
      " |-- year: integer (nullable = true)\n",
      " |-- month: integer (nullable = true)\n",
      " |-- dayofmonth: integer (nullable = true)\n",
      " |-- dayofweek: integer (nullable = true)\n",
      " |-- quarter: integer (nullable = true)\n",
      "\n"
     ]
    }
   ],
   "source": [
    "df.printSchema()"
   ]
  },
  {
   "cell_type": "code",
   "execution_count": 34,
   "id": "57586694-417f-46fc-b7e5-8a730671f566",
   "metadata": {},
   "outputs": [
    {
     "data": {
      "text/plain": [
       "['SDAT_S',\n",
       " 'SAK',\n",
       " 'FLT_NUM',\n",
       " 'DD',\n",
       " 'SEG_NUM',\n",
       " 'SORG',\n",
       " 'SDST',\n",
       " 'SSCL1',\n",
       " 'SEG_CLASS_CODE',\n",
       " 'NBCL',\n",
       " 'FCLCLD',\n",
       " 'PASS_BK',\n",
       " 'SA',\n",
       " 'AU',\n",
       " 'PASS_DEP',\n",
       " 'NS',\n",
       " 'DTD',\n",
       " 'new_DD',\n",
       " 'year',\n",
       " 'month',\n",
       " 'dayofmonth',\n",
       " 'dayofweek',\n",
       " 'quarter']"
      ]
     },
     "execution_count": 34,
     "metadata": {},
     "output_type": "execute_result"
    }
   ],
   "source": [
    "df.columns"
   ]
  },
  {
   "cell_type": "markdown",
   "id": "0ac50a20-fe47-46db-9a07-fc5af8d7eaaa",
   "metadata": {},
   "source": [
    "SAK - the same value everywhere\n",
    "\n",
    "SSCL1 - useless for our task"
   ]
  },
  {
   "cell_type": "code",
   "execution_count": 36,
   "id": "aa8e8e54-f380-429f-aefd-79dfe487a154",
   "metadata": {},
   "outputs": [
    {
     "name": "stdout",
     "output_type": "stream",
     "text": [
      "12\n"
     ]
    }
   ],
   "source": [
    "df_clear = df.select('FLT_NUM','SORG', 'SDST', 'SEG_CLASS_CODE', 'PASS_DEP', 'DTD',\\\n",
    " 'new_DD',\\\n",
    " 'year',\\\n",
    " 'month',\\\n",
    " 'dayofmonth',\\\n",
    " 'dayofweek',\\\n",
    " 'quarter')\n",
    "print(len(df_clear.columns))"
   ]
  },
  {
   "cell_type": "markdown",
   "id": "e9d121f9-751f-40fb-ac61-eae8ec55be31",
   "metadata": {},
   "source": [
    "Replacing null values"
   ]
  },
  {
   "cell_type": "code",
   "execution_count": 38,
   "id": "2d38c407-69f5-46b8-b6c2-9977caa6a384",
   "metadata": {},
   "outputs": [],
   "source": [
    "df_clear = df_clear.na.drop() "
   ]
  },
  {
   "cell_type": "code",
   "execution_count": 39,
   "id": "fd9b2c0f-6f24-4811-a86f-869ede83ba56",
   "metadata": {},
   "outputs": [
    {
     "name": "stdout",
     "output_type": "stream",
     "text": [
      "root\n",
      " |-- FLT_NUM: string (nullable = true)\n",
      " |-- SORG: string (nullable = true)\n",
      " |-- SDST: string (nullable = true)\n",
      " |-- SEG_CLASS_CODE: string (nullable = true)\n",
      " |-- PASS_DEP: string (nullable = true)\n",
      " |-- DTD: string (nullable = true)\n",
      " |-- new_DD: date (nullable = true)\n",
      " |-- year: integer (nullable = true)\n",
      " |-- month: integer (nullable = true)\n",
      " |-- dayofmonth: integer (nullable = true)\n",
      " |-- dayofweek: integer (nullable = true)\n",
      " |-- quarter: integer (nullable = true)\n",
      "\n"
     ]
    }
   ],
   "source": [
    "df_clear.printSchema()"
   ]
  },
  {
   "cell_type": "markdown",
   "id": "78a6f99c-80e7-4938-b33d-b99a5f7bf41f",
   "metadata": {},
   "source": [
    "Replace all DTD -1 on 0"
   ]
  },
  {
   "cell_type": "code",
   "execution_count": 40,
   "id": "39dfea64-9f81-4136-bcaa-abb725eda763",
   "metadata": {},
   "outputs": [],
   "source": [
    "df_clear = df_clear.withColumn(\"DTD\", F.when(df_clear.DTD == \"-1\", \"0\").otherwise(df_clear[\"DTD\"]))"
   ]
  },
  {
   "cell_type": "markdown",
   "id": "cc25d7b3-21fb-4f9c-bcee-1799787a1934",
   "metadata": {},
   "source": [
    "Doudle all passengers which has only one ticket"
   ]
  },
  {
   "cell_type": "code",
   "execution_count": 41,
   "id": "cfe22a3e-e282-41c5-8491-871b1b2f58c5",
   "metadata": {},
   "outputs": [],
   "source": [
    "df_zero_pass = df_clear.where(df_clear.PASS_DEP == \"0\")\n",
    "df_rest_pass = df_clear.where(df_clear.PASS_DEP != \"0\")"
   ]
  },
  {
   "cell_type": "code",
   "execution_count": 42,
   "id": "6049cce3-5fc0-49ac-a5b6-bc2f80ff642a",
   "metadata": {},
   "outputs": [],
   "source": [
    "df_rest_dubl_pass = df_rest_pass.withColumn(\"PASS_DEP\", expr(\"explode(array_repeat(PASS_DEP,int(PASS_DEP)))\"))"
   ]
  },
  {
   "cell_type": "code",
   "execution_count": 43,
   "id": "405efe07-692f-4b85-978a-cbadc806f3d4",
   "metadata": {},
   "outputs": [
    {
     "name": "stdout",
     "output_type": "stream",
     "text": [
      "new passengers:  98095\n"
     ]
    }
   ],
   "source": [
    "rest_count = df_rest_pass.count()\n",
    "dubl_count = df_rest_dubl_pass.count()\n",
    "print(\"new passengers: \",dubl_count - rest_count )"
   ]
  },
  {
   "cell_type": "code",
   "execution_count": 45,
   "id": "0340d956-156e-4c5a-9391-3022ae4487e3",
   "metadata": {},
   "outputs": [],
   "source": [
    "df_result = df_rest_dubl_pass.union(df_zero_pass)"
   ]
  },
  {
   "cell_type": "markdown",
   "id": "cd6b983d-5968-414c-ae93-8fe53e42302d",
   "metadata": {},
   "source": [
    "View the number of unique values in columns"
   ]
  },
  {
   "cell_type": "code",
   "execution_count": 46,
   "id": "6f5c8434-9592-420a-88e0-46b9a2ff9ef4",
   "metadata": {},
   "outputs": [
    {
     "data": {
      "text/plain": [
       "[Row(SEG_CLASS_CODE='K'),\n",
       " Row(SEG_CLASS_CODE='Q'),\n",
       " Row(SEG_CLASS_CODE='E'),\n",
       " Row(SEG_CLASS_CODE='T'),\n",
       " Row(SEG_CLASS_CODE='B'),\n",
       " Row(SEG_CLASS_CODE='Y'),\n",
       " Row(SEG_CLASS_CODE='L'),\n",
       " Row(SEG_CLASS_CODE='M'),\n",
       " Row(SEG_CLASS_CODE='U'),\n",
       " Row(SEG_CLASS_CODE='D'),\n",
       " Row(SEG_CLASS_CODE='O'),\n",
       " Row(SEG_CLASS_CODE='C'),\n",
       " Row(SEG_CLASS_CODE='J'),\n",
       " Row(SEG_CLASS_CODE='Z'),\n",
       " Row(SEG_CLASS_CODE='N'),\n",
       " Row(SEG_CLASS_CODE='X'),\n",
       " Row(SEG_CLASS_CODE='R'),\n",
       " Row(SEG_CLASS_CODE='G'),\n",
       " Row(SEG_CLASS_CODE='I'),\n",
       " Row(SEG_CLASS_CODE='P'),\n",
       " Row(SEG_CLASS_CODE='H'),\n",
       " Row(SEG_CLASS_CODE='V')]"
      ]
     },
     "execution_count": 46,
     "metadata": {},
     "output_type": "execute_result"
    }
   ],
   "source": [
    "df_result.dropDuplicates([\"SEG_CLASS_CODE\"]).select(\"SEG_CLASS_CODE\").collect()"
   ]
  },
  {
   "cell_type": "code",
   "execution_count": 47,
   "id": "984d3608-f4f7-4b86-b741-cd2b7206ae04",
   "metadata": {},
   "outputs": [
    {
     "data": {
      "text/plain": [
       "[Row(SORG='ASF'), Row(SORG='AER'), Row(SORG='SVO')]"
      ]
     },
     "execution_count": 47,
     "metadata": {},
     "output_type": "execute_result"
    }
   ],
   "source": [
    "df_result.dropDuplicates([\"SORG\"]).select(\"SORG\").collect()"
   ]
  },
  {
   "cell_type": "code",
   "execution_count": 48,
   "id": "67299a6d-0301-4a04-a80f-b08c7a33ee4a",
   "metadata": {},
   "outputs": [
    {
     "data": {
      "text/plain": [
       "[Row(SDST='ASF'), Row(SDST='AER'), Row(SDST='SVO')]"
      ]
     },
     "execution_count": 48,
     "metadata": {},
     "output_type": "execute_result"
    }
   ],
   "source": [
    "df_result.dropDuplicates([\"SDST\"]).select(\"SDST\").collect()"
   ]
  },
  {
   "cell_type": "code",
   "execution_count": 50,
   "id": "72ce0151-74e1-491e-ad0e-4c6647559f3d",
   "metadata": {},
   "outputs": [
    {
     "data": {
      "text/plain": [
       "[Row(DTD='0'),\n",
       " Row(DTD='125'),\n",
       " Row(DTD='124'),\n",
       " Row(DTD='205'),\n",
       " Row(DTD='169'),\n",
       " Row(DTD='155'),\n",
       " Row(DTD='154'),\n",
       " Row(DTD='132'),\n",
       " Row(DTD='200'),\n",
       " Row(DTD='138'),\n",
       " Row(DTD='112'),\n",
       " Row(DTD='113'),\n",
       " Row(DTD='133'),\n",
       " Row(DTD='162'),\n",
       " Row(DTD='146'),\n",
       " Row(DTD='139'),\n",
       " Row(DTD='160'),\n",
       " Row(DTD='203'),\n",
       " Row(DTD='184'),\n",
       " Row(DTD='199'),\n",
       " Row(DTD='183'),\n",
       " Row(DTD='171'),\n",
       " Row(DTD='187'),\n",
       " Row(DTD='188'),\n",
       " Row(DTD='195'),\n",
       " Row(DTD='110'),\n",
       " Row(DTD='107'),\n",
       " Row(DTD='214'),\n",
       " Row(DTD='179'),\n",
       " Row(DTD='202'),\n",
       " Row(DTD='163'),\n",
       " Row(DTD='206'),\n",
       " Row(DTD='174'),\n",
       " Row(DTD='168'),\n",
       " Row(DTD='166'),\n",
       " Row(DTD='140'),\n",
       " Row(DTD='131'),\n",
       " Row(DTD='126'),\n",
       " Row(DTD='120'),\n",
       " Row(DTD='130'),\n",
       " Row(DTD='207'),\n",
       " Row(DTD='164'),\n",
       " Row(DTD='147'),\n",
       " Row(DTD='208'),\n",
       " Row(DTD='198'),\n",
       " Row(DTD='136'),\n",
       " Row(DTD='118'),\n",
       " Row(DTD='185'),\n",
       " Row(DTD='201'),\n",
       " Row(DTD='177'),\n",
       " Row(DTD='194'),\n",
       " Row(DTD='128'),\n",
       " Row(DTD='111'),\n",
       " Row(DTD='197'),\n",
       " Row(DTD='167'),\n",
       " Row(DTD='189'),\n",
       " Row(DTD='190'),\n",
       " Row(DTD='156'),\n",
       " Row(DTD='135'),\n",
       " Row(DTD='176'),\n",
       " Row(DTD='144'),\n",
       " Row(DTD='115'),\n",
       " Row(DTD='193'),\n",
       " Row(DTD='122'),\n",
       " Row(DTD='117'),\n",
       " Row(DTD='108'),\n",
       " Row(DTD='204'),\n",
       " Row(DTD='114'),\n",
       " Row(DTD='213'),\n",
       " Row(DTD='150'),\n",
       " Row(DTD='170'),\n",
       " Row(DTD='178'),\n",
       " Row(DTD='153'),\n",
       " Row(DTD='217'),\n",
       " Row(DTD='180'),\n",
       " Row(DTD='173'),\n",
       " Row(DTD='148'),\n",
       " Row(DTD='141'),\n",
       " Row(DTD='209'),\n",
       " Row(DTD='159'),\n",
       " Row(DTD='158'),\n",
       " Row(DTD='106'),\n",
       " Row(DTD='143'),\n",
       " Row(DTD='212'),\n",
       " Row(DTD='116'),\n",
       " Row(DTD='186'),\n",
       " Row(DTD='152'),\n",
       " Row(DTD='134'),\n",
       " Row(DTD='149'),\n",
       " Row(DTD='105'),\n",
       " Row(DTD='142'),\n",
       " Row(DTD='127'),\n",
       " Row(DTD='211'),\n",
       " Row(DTD='165'),\n",
       " Row(DTD='172'),\n",
       " Row(DTD='181'),\n",
       " Row(DTD='121'),\n",
       " Row(DTD='210'),\n",
       " Row(DTD='215'),\n",
       " Row(DTD='123'),\n",
       " Row(DTD='109'),\n",
       " Row(DTD='191'),\n",
       " Row(DTD='157'),\n",
       " Row(DTD='182'),\n",
       " Row(DTD='175'),\n",
       " Row(DTD='137'),\n",
       " Row(DTD='161'),\n",
       " Row(DTD='151'),\n",
       " Row(DTD='129'),\n",
       " Row(DTD='196'),\n",
       " Row(DTD='192'),\n",
       " Row(DTD='145'),\n",
       " Row(DTD='216'),\n",
       " Row(DTD='119'),\n",
       " Row(DTD='51'),\n",
       " Row(DTD='54'),\n",
       " Row(DTD='101'),\n",
       " Row(DTD='69'),\n",
       " Row(DTD='42'),\n",
       " Row(DTD='87'),\n",
       " Row(DTD='73'),\n",
       " Row(DTD='64'),\n",
       " Row(DTD='34'),\n",
       " Row(DTD='59'),\n",
       " Row(DTD='85'),\n",
       " Row(DTD='52'),\n",
       " Row(DTD='35'),\n",
       " Row(DTD='71'),\n",
       " Row(DTD='98'),\n",
       " Row(DTD='99'),\n",
       " Row(DTD='47'),\n",
       " Row(DTD='96'),\n",
       " Row(DTD='43'),\n",
       " Row(DTD='31'),\n",
       " Row(DTD='100'),\n",
       " Row(DTD='70'),\n",
       " Row(DTD='61'),\n",
       " Row(DTD='75'),\n",
       " Row(DTD='46'),\n",
       " Row(DTD='78'),\n",
       " Row(DTD='89'),\n",
       " Row(DTD='77'),\n",
       " Row(DTD='104'),\n",
       " Row(DTD='90'),\n",
       " Row(DTD='68'),\n",
       " Row(DTD='60'),\n",
       " Row(DTD='41'),\n",
       " Row(DTD='102'),\n",
       " Row(DTD='55'),\n",
       " Row(DTD='95'),\n",
       " Row(DTD='93'),\n",
       " Row(DTD='103'),\n",
       " Row(DTD='40'),\n",
       " Row(DTD='38'),\n",
       " Row(DTD='44'),\n",
       " Row(DTD='82'),\n",
       " Row(DTD='53'),\n",
       " Row(DTD='92'),\n",
       " Row(DTD='86'),\n",
       " Row(DTD='58'),\n",
       " Row(DTD='81'),\n",
       " Row(DTD='33'),\n",
       " Row(DTD='48'),\n",
       " Row(DTD='97'),\n",
       " Row(DTD='67'),\n",
       " Row(DTD='84'),\n",
       " Row(DTD='79'),\n",
       " Row(DTD='32'),\n",
       " Row(DTD='88'),\n",
       " Row(DTD='56'),\n",
       " Row(DTD='36'),\n",
       " Row(DTD='37'),\n",
       " Row(DTD='49'),\n",
       " Row(DTD='63'),\n",
       " Row(DTD='65'),\n",
       " Row(DTD='39'),\n",
       " Row(DTD='62'),\n",
       " Row(DTD='83'),\n",
       " Row(DTD='66'),\n",
       " Row(DTD='94'),\n",
       " Row(DTD='91'),\n",
       " Row(DTD='74'),\n",
       " Row(DTD='72'),\n",
       " Row(DTD='76'),\n",
       " Row(DTD='80'),\n",
       " Row(DTD='50'),\n",
       " Row(DTD='57'),\n",
       " Row(DTD='45'),\n",
       " Row(DTD='7'),\n",
       " Row(DTD='15'),\n",
       " Row(DTD='11'),\n",
       " Row(DTD='29'),\n",
       " Row(DTD='3'),\n",
       " Row(DTD='30'),\n",
       " Row(DTD='8'),\n",
       " Row(DTD='28'),\n",
       " Row(DTD='22'),\n",
       " Row(DTD='16'),\n",
       " Row(DTD='5'),\n",
       " Row(DTD='18'),\n",
       " Row(DTD='27'),\n",
       " Row(DTD='17'),\n",
       " Row(DTD='26'),\n",
       " Row(DTD='6'),\n",
       " Row(DTD='19'),\n",
       " Row(DTD='23'),\n",
       " Row(DTD='25'),\n",
       " Row(DTD='24'),\n",
       " Row(DTD='9'),\n",
       " Row(DTD='1'),\n",
       " Row(DTD='20'),\n",
       " Row(DTD='10'),\n",
       " Row(DTD='4'),\n",
       " Row(DTD='12'),\n",
       " Row(DTD='13'),\n",
       " Row(DTD='21'),\n",
       " Row(DTD='14'),\n",
       " Row(DTD='2')]"
      ]
     },
     "execution_count": 50,
     "metadata": {},
     "output_type": "execute_result"
    }
   ],
   "source": [
    "df_result.dropDuplicates([\"DTD\"]).select(\"DTD\").collect()"
   ]
  },
  {
   "cell_type": "markdown",
   "id": "436e0455-d84d-440e-b2e7-f4e7c900de60",
   "metadata": {},
   "source": [
    "Agg all dataframe by count passengers"
   ]
  },
  {
   "cell_type": "code",
   "execution_count": 51,
   "id": "7193557f-2b09-41ce-bd24-3f4c613ab484",
   "metadata": {},
   "outputs": [
    {
     "name": "stdout",
     "output_type": "stream",
     "text": [
      "root\n",
      " |-- FLT_NUM: string (nullable = true)\n",
      " |-- SORG: string (nullable = true)\n",
      " |-- SDST: string (nullable = true)\n",
      " |-- SEG_CLASS_CODE: string (nullable = true)\n",
      " |-- PASS_DEP: string (nullable = true)\n",
      " |-- DTD: string (nullable = true)\n",
      " |-- new_DD: date (nullable = true)\n",
      " |-- year: integer (nullable = true)\n",
      " |-- month: integer (nullable = true)\n",
      " |-- dayofmonth: integer (nullable = true)\n",
      " |-- dayofweek: integer (nullable = true)\n",
      " |-- quarter: integer (nullable = true)\n",
      "\n"
     ]
    }
   ],
   "source": [
    "df_result.printSchema()"
   ]
  },
  {
   "cell_type": "code",
   "execution_count": 52,
   "id": "b598bb44-4a11-4bb3-8332-44c4d2f66b29",
   "metadata": {},
   "outputs": [],
   "source": [
    "df_passengers = df_result.groupBy(\"FLT_NUM\", \"SORG\", \"SDST\", \"SEG_CLASS_CODE\", \"DTD\",\"year\",\"month\",\"dayofmonth\", \"dayofweek\", \"quarter\")\\\n",
    "    .agg({\"*\": \"count\"})\n",
    "\n",
    "df_passengers = df_passengers.withColumnRenamed('count(1)', 'count_passengers')\n",
    "passengers_count = df_passengers.count()"
   ]
  },
  {
   "cell_type": "code",
   "execution_count": 57,
   "id": "53e68e5c-f0c8-49ee-b5e1-fd77921cac0f",
   "metadata": {},
   "outputs": [
    {
     "name": "stdout",
     "output_type": "stream",
     "text": [
      "4640353 11\n",
      "diff from first df:  115827\n"
     ]
    }
   ],
   "source": [
    "print(passengers_count,len(df_passengers.columns))  \n",
    "print(\"diff from first df: \", 4756180 - passengers_count) # df_result was 4756180"
   ]
  },
  {
   "cell_type": "code",
   "execution_count": 58,
   "id": "aa6c05bf-6457-4f02-9379-e9d8e9011b0b",
   "metadata": {},
   "outputs": [],
   "source": [
    "df_passengers.write.option(\"header\", True).option(\"delimiter\",\",\").csv(\"result_2018.csv\")"
   ]
  },
  {
   "cell_type": "code",
   "execution_count": 59,
   "id": "c78bbd44-4822-4453-bcbf-f92b1bba35dd",
   "metadata": {},
   "outputs": [
    {
     "name": "stdout",
     "output_type": "stream",
     "text": [
      "+-------+----+----+--------------+---+----+-----+----------+---------+-------+----------------+\n",
      "|FLT_NUM|SORG|SDST|SEG_CLASS_CODE|DTD|year|month|dayofmonth|dayofweek|quarter|count_passengers|\n",
      "+-------+----+----+--------------+---+----+-----+----------+---------+-------+----------------+\n",
      "|1129   |AER |SVO |X             |0  |2018|5    |4         |6        |2      |2               |\n",
      "|1122   |SVO |AER |L             |0  |2018|5    |5         |7        |2      |6               |\n",
      "|1135   |AER |SVO |J             |0  |2018|5    |4         |6        |2      |3               |\n",
      "|1172   |SVO |ASF |E             |0  |2018|5    |4         |6        |2      |43              |\n",
      "|1174   |SVO |ASF |D             |0  |2018|5    |3         |5        |2      |2               |\n",
      "|1135   |AER |SVO |N             |0  |2018|5    |1         |3        |2      |44              |\n",
      "|1643   |ASF |SVO |T             |0  |2018|5    |1         |3        |2      |2               |\n",
      "|1138   |SVO |AER |I             |0  |2018|5    |2         |4        |2      |2               |\n",
      "|1140   |SVO |AER |U             |0  |2018|5    |2         |4        |2      |3               |\n",
      "|1140   |SVO |AER |J             |0  |2018|5    |11        |6        |2      |7               |\n",
      "|1140   |SVO |AER |C             |0  |2018|5    |11        |6        |2      |7               |\n",
      "|1127   |AER |SVO |H             |0  |2018|5    |12        |7        |2      |3               |\n",
      "|1127   |AER |SVO |Q             |0  |2018|5    |12        |7        |2      |14              |\n",
      "|1172   |SVO |ASF |Q             |0  |2018|5    |11        |6        |2      |3               |\n",
      "|1135   |AER |SVO |J             |0  |2018|5    |12        |7        |2      |3               |\n",
      "+-------+----+----+--------------+---+----+-----+----------+---------+-------+----------------+\n",
      "only showing top 15 rows\n",
      "\n"
     ]
    }
   ],
   "source": [
    "df_passengers.show(15, False)"
   ]
  },
  {
   "cell_type": "markdown",
   "id": "026befb6-3ec7-4b22-b6b4-e702f890b5e0",
   "metadata": {},
   "source": [
    "#### Сombining all summed datasets"
   ]
  },
  {
   "cell_type": "code",
   "execution_count": 64,
   "id": "be2a9d90-d60b-4296-89c5-11ff42716f2c",
   "metadata": {},
   "outputs": [],
   "source": [
    "path_data_2018 = '/home/result_2018.csv'\n",
    "files_result_2018 = os.listdir(path_data_2018)\n",
    "\n",
    "path_data_2019 = '/home/result_2019.csv'\n",
    "files_result_2019 = os.listdir(path_data_2019)"
   ]
  },
  {
   "cell_type": "code",
   "execution_count": 71,
   "id": "4ecb54e4-d5f4-4150-a2c5-b650eb512658",
   "metadata": {},
   "outputs": [
    {
     "data": {
      "text/plain": [
       "['part-00000-b96aff4c-740b-46ca-80b4-8e09a6115cb1-c000.csv',\n",
       " 'part-00001-b96aff4c-740b-46ca-80b4-8e09a6115cb1-c000.csv']"
      ]
     },
     "execution_count": 71,
     "metadata": {},
     "output_type": "execute_result"
    }
   ],
   "source": [
    "files_result_2018"
   ]
  },
  {
   "cell_type": "code",
   "execution_count": 66,
   "id": "8594b993-542d-4b64-b7fb-b9863a96c365",
   "metadata": {},
   "outputs": [],
   "source": [
    "files_result_2019 = ['part-00000-2cba3736-9594-46ac-805e-b0157232964d-c000.csv', 'part-00001-2cba3736-9594-46ac-805e-b0157232964d-c000.csv' ]\n",
    "files_result_2018 = ['part-00000-b96aff4c-740b-46ca-80b4-8e09a6115cb1-c000.csv', 'part-00001-b96aff4c-740b-46ca-80b4-8e09a6115cb1-c000.csv']"
   ]
  },
  {
   "cell_type": "code",
   "execution_count": null,
   "id": "9003de80-afbf-444c-999e-4a50bb947e81",
   "metadata": {},
   "outputs": [],
   "source": []
  },
  {
   "cell_type": "code",
   "execution_count": 79,
   "id": "6c437c2c-ca13-49c5-a5d1-051d0ed3134b",
   "metadata": {},
   "outputs": [],
   "source": [
    "files =  files_result_2018+ files_result_2019 \n",
    "df_all = spark.read.options(delimiter=\",\",header=True).csv(path_data_2018+'/'+files[0])"
   ]
  },
  {
   "cell_type": "code",
   "execution_count": 80,
   "id": "e4541d1a-5f77-4a9d-a9cc-9d8839281b83",
   "metadata": {},
   "outputs": [
    {
     "name": "stdout",
     "output_type": "stream",
     "text": [
      "+-------+----+----+--------------+---+----+-----+----------+---------+-------+----------------+\n",
      "|FLT_NUM|SORG|SDST|SEG_CLASS_CODE|DTD|year|month|dayofmonth|dayofweek|quarter|count_passengers|\n",
      "+-------+----+----+--------------+---+----+-----+----------+---------+-------+----------------+\n",
      "|   1120| SVO| AER|             B|  0|2018|    5|         1|        3|      2|               2|\n",
      "|   1120| SVO| AER|             B|  0|2018|    5|         2|        4|      2|               2|\n",
      "|   1120| SVO| AER|             B|  0|2018|    5|         4|        6|      2|               2|\n",
      "|   1120| SVO| AER|             B|  0|2018|    5|         5|        7|      2|               2|\n",
      "|   1120| SVO| AER|             B|  0|2018|    5|         6|        1|      2|               2|\n",
      "|   1120| SVO| AER|             B|  0|2018|    5|         7|        2|      2|               2|\n",
      "|   1120| SVO| AER|             B|  0|2018|    5|         8|        3|      2|               2|\n",
      "|   1120| SVO| AER|             B|  0|2018|    5|         9|        4|      2|               2|\n",
      "|   1120| SVO| AER|             B|  0|2018|    5|        10|        5|      2|               2|\n",
      "|   1120| SVO| AER|             B|  0|2018|    5|        11|        6|      2|               2|\n",
      "+-------+----+----+--------------+---+----+-----+----------+---------+-------+----------------+\n",
      "only showing top 10 rows\n",
      "\n"
     ]
    }
   ],
   "source": [
    "df_all.show(10,True)"
   ]
  },
  {
   "cell_type": "code",
   "execution_count": 87,
   "id": "142c314b-cc3f-4676-8279-c1cba4ac9585",
   "metadata": {},
   "outputs": [
    {
     "name": "stdout",
     "output_type": "stream",
     "text": [
      "file concat ok part-00001-b96aff4c-740b-46ca-80b4-8e09a6115cb1-c000.csv\n",
      "file concat ok part-00000-2cba3736-9594-46ac-805e-b0157232964d-c000.csv\n",
      "file concat ok part-00001-2cba3736-9594-46ac-805e-b0157232964d-c000.csv\n"
     ]
    }
   ],
   "source": [
    "for idx in range(1,len(files)):\n",
    "    if(idx==1):\n",
    "        temp = spark.read.options(delimiter=\",\",header=True).csv(path_data_2018+'/'+files[idx])\n",
    "        df_all.union(temp)\n",
    "    else:\n",
    "        temp = spark.read.options(delimiter=\",\",header=True).csv(path_data_2019+'/'+files[idx])\n",
    "        df_all.union(temp)\n",
    "    print(\"file concat ok\", files[idx])"
   ]
  },
  {
   "cell_type": "code",
   "execution_count": 88,
   "id": "59069c31-3555-485b-a844-c457ab37f871",
   "metadata": {},
   "outputs": [
    {
     "name": "stdout",
     "output_type": "stream",
     "text": [
      "9532242 11\n"
     ]
    }
   ],
   "source": [
    "print(df_all.count(),len(df_all.columns))  # all counts  "
   ]
  },
  {
   "cell_type": "code",
   "execution_count": null,
   "id": "501c2fe2-3c85-4344-85f9-74d26f56bc2a",
   "metadata": {},
   "outputs": [],
   "source": [
    "df_passengers = df_all.alias(\"df_passengers\")"
   ]
  },
  {
   "cell_type": "markdown",
   "id": "8528df95-3cd8-4d28-bfbc-b436cecff393",
   "metadata": {},
   "source": [
    "## Training"
   ]
  },
  {
   "cell_type": "code",
   "execution_count": 89,
   "id": "f0c13b58-3308-4352-9100-a700b2ededf1",
   "metadata": {},
   "outputs": [],
   "source": [
    "from pyspark.ml import Pipeline\n",
    "from pyspark.ml.regression import RandomForestRegressor\n",
    "from pyspark.ml.feature import VectorAssembler, StringIndexer, VectorIndexer, OneHotEncoder\n",
    "from pyspark.ml.evaluation import RegressionEvaluator\n",
    "from pyspark.ml.regression import LinearRegression, GBTRegressor"
   ]
  },
  {
   "cell_type": "code",
   "execution_count": 90,
   "id": "55bcced8-dde7-4bd8-911e-fc0a5025dfd6",
   "metadata": {},
   "outputs": [
    {
     "name": "stdout",
     "output_type": "stream",
     "text": [
      "root\n",
      " |-- FLT_NUM: string (nullable = true)\n",
      " |-- SORG: string (nullable = true)\n",
      " |-- SDST: string (nullable = true)\n",
      " |-- SEG_CLASS_CODE: string (nullable = true)\n",
      " |-- DTD: string (nullable = true)\n",
      " |-- year: integer (nullable = true)\n",
      " |-- month: integer (nullable = true)\n",
      " |-- dayofmonth: integer (nullable = true)\n",
      " |-- dayofweek: integer (nullable = true)\n",
      " |-- quarter: integer (nullable = true)\n",
      " |-- count_passengers: long (nullable = false)\n",
      "\n"
     ]
    }
   ],
   "source": [
    "df_passengers.printSchema()"
   ]
  },
  {
   "cell_type": "code",
   "execution_count": 91,
   "id": "e99b1726-80a6-4751-ae9f-c8b575675c18",
   "metadata": {},
   "outputs": [],
   "source": [
    "df_passengers = df_passengers.withColumn(\"DTD\", df_passengers[\"DTD\"].cast(\"int\"))"
   ]
  },
  {
   "cell_type": "code",
   "execution_count": 92,
   "id": "d9e82b6a-d5ab-423d-b26e-b38c0cd668b1",
   "metadata": {},
   "outputs": [],
   "source": [
    "col_si_in = [\"FLT_NUM\", \"SORG\", \"SDST\", \"SEG_CLASS_CODE\"]\n",
    "col_si_out = [str(i+\"_si\") for i in col_si_in]\n",
    "\n",
    "col_ohe_in = col_si_out + [\"DTD\", \"year\",\"month\",\"dayofmonth\",\"dayofweek\",\"quarter\"]\n",
    "col_ohe_out = [str(i+\"_ohe\") for i in col_ohe_in]"
   ]
  },
  {
   "cell_type": "code",
   "execution_count": 93,
   "id": "6e64613e-2e07-4664-b1f5-8f13f015214e",
   "metadata": {},
   "outputs": [],
   "source": [
    "label = 'count_passengers'"
   ]
  },
  {
   "cell_type": "markdown",
   "id": "3c28155f-83b9-416f-b66b-77c9bcd5e72c",
   "metadata": {},
   "source": [
    "Split the data into training and test sets (30% held out for testing)"
   ]
  },
  {
   "cell_type": "code",
   "execution_count": 94,
   "id": "e3866df1-f65f-4c02-9459-084ff2b8caf3",
   "metadata": {},
   "outputs": [],
   "source": [
    "(trainingData, testData) = df_passengers.randomSplit([0.7, 0.3])"
   ]
  },
  {
   "cell_type": "markdown",
   "id": "218d8acc-8fe0-4561-9bcf-93ccdd0695ff",
   "metadata": {},
   "source": [
    "Create steps for pipeline"
   ]
  },
  {
   "cell_type": "code",
   "execution_count": 95,
   "id": "1bd16129-e97d-43c5-9b73-ad3811b2fe78",
   "metadata": {},
   "outputs": [],
   "source": [
    "si_indexer = StringIndexer(inputCols=col_si_in, outputCols=col_si_out)"
   ]
  },
  {
   "cell_type": "code",
   "execution_count": 96,
   "id": "1468a2d1-f1ba-403e-98c0-5ec2c8de6ace",
   "metadata": {},
   "outputs": [],
   "source": [
    "encoder = OneHotEncoder(inputCols=col_ohe_in,\n",
    "                        outputCols=col_ohe_out)"
   ]
  },
  {
   "cell_type": "code",
   "execution_count": 97,
   "id": "03c90b50-c34e-439c-b5f1-5aaeb7e2460c",
   "metadata": {},
   "outputs": [],
   "source": [
    "assembler = VectorAssembler(\n",
    "    inputCols=col_ohe_out,\n",
    "    outputCol=\"features\")"
   ]
  },
  {
   "cell_type": "markdown",
   "id": "b30d13e0-a142-4ff2-89ff-e9939fc4d5b9",
   "metadata": {},
   "source": [
    "Scale features using Normalization"
   ]
  },
  {
   "cell_type": "code",
   "execution_count": 99,
   "id": "7d967ab1-c8b8-4dce-9cdb-0dd0f34f1ba5",
   "metadata": {},
   "outputs": [],
   "source": [
    "from pyspark.ml.feature import StandardScaler\n",
    "\n",
    "scaler = StandardScaler(inputCol = \"features\",\n",
    "                        outputCol = \"scaledFeatures\",\n",
    "                        withStd = True,\n",
    "                        withMean = True)"
   ]
  },
  {
   "cell_type": "markdown",
   "id": "fd5330f4-b20e-48b1-b796-b90b1e7a1814",
   "metadata": {},
   "source": [
    "LinearRegressionlr\n"
   ]
  },
  {
   "cell_type": "code",
   "execution_count": 100,
   "id": "1593d30d-c9ca-4963-9cef-1eb5b9b07d2d",
   "metadata": {},
   "outputs": [],
   "source": [
    "lr = LinearRegression(elasticNetParam=0.8, featuresCol='features', labelCol=label)"
   ]
  },
  {
   "cell_type": "code",
   "execution_count": 127,
   "id": "5af09387-a996-432e-9063-cc10667964d6",
   "metadata": {},
   "outputs": [],
   "source": [
    "pipeline = Pipeline(stages=[si_indexer, encoder, assembler, lr])"
   ]
  },
  {
   "cell_type": "code",
   "execution_count": 128,
   "id": "843b3353-4e3d-40ae-8d70-e44c334f4904",
   "metadata": {},
   "outputs": [],
   "source": [
    "model = pipeline.fit(trainingData)"
   ]
  },
  {
   "cell_type": "code",
   "execution_count": 131,
   "id": "bef817f9-3b12-4d71-a747-e68dc35c66ba",
   "metadata": {},
   "outputs": [
    {
     "name": "stdout",
     "output_type": "stream",
     "text": [
      "RMSE: 0.985819\n",
      "r2: 0.274234\n"
     ]
    }
   ],
   "source": [
    "lrModel= model.stages[-1]\n",
    "\n",
    "# training metrics\n",
    "trainingSummary = lrModel.summary\n",
    "print(\"RMSE: %f\" % trainingSummary.rootMeanSquaredError)\n",
    "print(\"r2: %f\" % (trainingSummary.r2))"
   ]
  },
  {
   "cell_type": "markdown",
   "id": "6170ff19-ea46-4ba9-abbe-5df608b1a20d",
   "metadata": {},
   "source": [
    " check the most important attributes for training"
   ]
  },
  {
   "cell_type": "code",
   "execution_count": 107,
   "id": "ef96a4b4-b9a6-4bd8-b76b-6782b007d45c",
   "metadata": {},
   "outputs": [
    {
     "name": "stdout",
     "output_type": "stream",
     "text": [
      "Intercept: 1.009238373005638\n",
      "Coefficients: [ 0.00628939  0.00380161  0.00165343 -0.00064653  0.00648736  0.00631032\n",
      "  0.00611255  0.00605807 -0.01236887 -0.0033613   0.00211962  0.00197356\n",
      "  0.00169233  0.00200848  0.00341985  0.0031108  -0.00042398 -0.00952471\n",
      "  0.00929198  0.00589103  0.00210357  0.00361468 -0.00240407  0.01264944\n",
      " -0.00516249 -0.00087683 -0.00063515  0.00087683 -0.0026434  -0.0346189\n",
      " -0.03467469 -0.03588359 -0.03453621 -0.03110589 -0.03430976 -0.03184382\n",
      " -0.02683229 -0.0364425  -0.03628079 -0.0331826   0.03034687 -0.0349412\n",
      "  0.21982243 -0.03592712 -0.00835728 -0.02337122 -0.00746911 -0.0320109\n",
      "  0.07916655 -0.02730102]\n"
     ]
    }
   ],
   "source": [
    "# Print the coefficients and intercept for linear regression\n",
    "print(\"Intercept: %s\" % str(lrModel.intercept))\n",
    "print(\"Coefficients: %s\" % str(lrModel.coefficients[:50]))"
   ]
  },
  {
   "cell_type": "markdown",
   "id": "626b23a8-7503-4afe-8123-24cad55ba230",
   "metadata": {},
   "source": [
    "some coefficients are zero,  should check the importance of the signs again"
   ]
  },
  {
   "cell_type": "code",
   "execution_count": null,
   "id": "3caaddef-e6d6-443e-9e59-7eb5aa95a905",
   "metadata": {},
   "outputs": [],
   "source": []
  },
  {
   "cell_type": "markdown",
   "id": "6d4b4be2-b705-407b-869d-453d26abc0fb",
   "metadata": {},
   "source": [
    "RandomForestRegressor"
   ]
  },
  {
   "cell_type": "code",
   "execution_count": 112,
   "id": "0b1b3742-c0e9-4141-b0e0-f4607de63d9c",
   "metadata": {},
   "outputs": [],
   "source": [
    "rf = RandomForestRegressor(featuresCol='features', labelCol=label)"
   ]
  },
  {
   "cell_type": "code",
   "execution_count": 113,
   "id": "3a5a36ce-da37-47cb-a4b4-1dbb6d4cb6a6",
   "metadata": {},
   "outputs": [],
   "source": [
    "pipeline = Pipeline(stages=[si_indexer, encoder, assembler, rf])\n",
    "model = pipeline.fit(trainingData)"
   ]
  },
  {
   "cell_type": "code",
   "execution_count": 114,
   "id": "817b6af3-6276-4804-b88c-4606b11e6dca",
   "metadata": {},
   "outputs": [],
   "source": [
    "# Make predictions.\n",
    "predictions_rf = model.transform(testData)"
   ]
  },
  {
   "cell_type": "code",
   "execution_count": 115,
   "id": "61faf2ad-b45f-4634-9f6e-45e76744acbb",
   "metadata": {},
   "outputs": [
    {
     "name": "stdout",
     "output_type": "stream",
     "text": [
      "+-----------------+----------------+--------------------+\n",
      "|       prediction|count_passengers|            features|\n",
      "+-----------------+----------------+--------------------+\n",
      "|4.559165889652663|               2|(2330,[25,28,34,5...|\n",
      "|4.559165889652663|               2|(2330,[25,28,34,5...|\n",
      "|4.559165889652663|               2|(2330,[25,28,34,5...|\n",
      "|4.559165889652663|               2|(2330,[25,28,34,5...|\n",
      "|4.559165889652663|               2|(2330,[25,28,34,5...|\n",
      "+-----------------+----------------+--------------------+\n",
      "only showing top 5 rows\n",
      "\n"
     ]
    }
   ],
   "source": [
    "# Select example rows to display.\n",
    "predictions_rf.select(\"prediction\", label, \"features\").show(5)"
   ]
  },
  {
   "cell_type": "code",
   "execution_count": 123,
   "id": "dd9a9831-5062-4fe5-8947-595da432f81b",
   "metadata": {},
   "outputs": [],
   "source": [
    "# Select (prediction, true label) and compute test error\n",
    "evaluator = RegressionEvaluator(labelCol=label, predictionCol=\"prediction\", metricName=\"r2\")\n",
    "r_metrics = evaluator.evaluate(predictions_rf)"
   ]
  },
  {
   "cell_type": "code",
   "execution_count": 125,
   "id": "fe092b5f-90b9-4aca-8ce3-c7f7db3630e3",
   "metadata": {},
   "outputs": [
    {
     "name": "stdout",
     "output_type": "stream",
     "text": [
      "Coefficient of determination(R^2) on test data = 0.821665\n"
     ]
    }
   ],
   "source": [
    "print(\"Coefficient of determination(R^2) on test data = %g\" % r_metrics)"
   ]
  },
  {
   "cell_type": "code",
   "execution_count": 119,
   "id": "670172ed-3a43-4ef2-abd3-b94bd8c84319",
   "metadata": {},
   "outputs": [
    {
     "name": "stdout",
     "output_type": "stream",
     "text": [
      "RandomForestRegressionModel: uid=RandomForestRegressor_435a59be3b23, numTrees=20, numFeatures=2330\n"
     ]
    }
   ],
   "source": [
    "rfModel = model.stages[-1]\n",
    "print(rfModel)  # summary only"
   ]
  },
  {
   "cell_type": "code",
   "execution_count": 120,
   "id": "60f8d275-d942-4621-968c-f01a140b28e5",
   "metadata": {},
   "outputs": [],
   "source": [
    "x_ax = range(0, predictions_rf.count())\n",
    "y_pred=predictions_rf.select(\"prediction\").collect()\n",
    "y_orig=predictions_rf.select(label).collect()"
   ]
  },
  {
   "cell_type": "code",
   "execution_count": 121,
   "id": "6bfb8b7e-5e5d-48be-85a3-8a6dd765baa6",
   "metadata": {},
   "outputs": [
    {
     "data": {
      "image/png": "[encoded data removed]",
      "text/plain": [
       "<Figure size 432x288 with 1 Axes>"
      ]
     },
     "metadata": {
      "needs_background": "light"
     },
     "output_type": "display_data"
    }
   ],
   "source": [
    "plt.scatter(x_ax, y_orig, label=\"original\")\n",
    "plt.scatter(x_ax, y_pred, label=\"predicted\")\n",
    "plt.title(\"Count passengers test and predicted data\")\n",
    "plt.xlabel('X-axis')\n",
    "plt.ylabel('Y-axis')\n",
    "plt.legend(loc='best',fancybox=True, shadow=True)\n",
    "plt.grid(True)\n",
    "plt.show()"
   ]
  },
  {
   "cell_type": "code",
   "execution_count": 122,
   "id": "e3b233f5-0a0b-4c10-8487-fc34c38b7d18",
   "metadata": {},
   "outputs": [
    {
     "name": "stdout",
     "output_type": "stream",
     "text": [
      "+------------------+----------------+--------------------+\n",
      "|        prediction|count_passengers|            features|\n",
      "+------------------+----------------+--------------------+\n",
      "| 4.559165889652663|               2|(2330,[25,28,34,5...|\n",
      "| 4.559165889652663|               2|(2330,[25,28,34,5...|\n",
      "| 4.559165889652663|               2|(2330,[25,28,34,5...|\n",
      "| 4.559165889652663|               2|(2330,[25,28,34,5...|\n",
      "| 4.559165889652663|               2|(2330,[25,28,34,5...|\n",
      "| 4.559165889652663|               2|(2330,[25,28,34,5...|\n",
      "| 4.559165889652663|               2|(2330,[25,28,34,5...|\n",
      "| 4.559165889652663|               2|(2330,[25,28,34,5...|\n",
      "|1.0016632226034021|               1|(2330,[25,28,34,5...|\n",
      "|1.0016632226034021|               1|(2330,[25,28,34,5...|\n",
      "+------------------+----------------+--------------------+\n",
      "only showing top 10 rows\n",
      "\n"
     ]
    }
   ],
   "source": [
    "predictions_rf.select(\"prediction\", label, \"features\").show(10)"
   ]
  },
  {
   "cell_type": "code",
   "execution_count": null,
   "id": "13152fb2-fe74-4416-8191-242db1f6d591",
   "metadata": {},
   "outputs": [],
   "source": []
  },
  {
   "cell_type": "markdown",
   "id": "9a38fd68-383e-4f54-959d-8d92c073d8df",
   "metadata": {},
   "source": [
    "GBTRegressor"
   ]
  },
  {
   "cell_type": "code",
   "execution_count": 145,
   "id": "841bd70c-a599-4218-aad6-54feefce3721",
   "metadata": {},
   "outputs": [],
   "source": [
    "gbtr = GBTRegressor(featuresCol='features', labelCol=label, maxDepth=2, seed=42)"
   ]
  },
  {
   "cell_type": "code",
   "execution_count": 146,
   "id": "89daa2ab-759e-4425-8582-504b8b88d45f",
   "metadata": {},
   "outputs": [],
   "source": [
    "pipeline = Pipeline(stages=[si_indexer, encoder, assembler, gbtr])\n",
    "model = pipeline.fit(trainingData)"
   ]
  },
  {
   "cell_type": "code",
   "execution_count": null,
   "id": "af7fa7fc-1431-480a-97e5-3cf2cbc69c1d",
   "metadata": {},
   "outputs": [],
   "source": []
  },
  {
   "cell_type": "code",
   "execution_count": 148,
   "id": "6b59f87a-accf-4e34-ab20-25256386e34e",
   "metadata": {},
   "outputs": [],
   "source": [
    "gbtr_prediction = predictions.alias(\"gbtr_prediction\")"
   ]
  },
  {
   "cell_type": "code",
   "execution_count": 147,
   "id": "8d36023d-ddd1-4ab8-956e-037f9e477b00",
   "metadata": {},
   "outputs": [
    {
     "name": "stdout",
     "output_type": "stream",
     "text": [
      "Root Mean Squared Error (RMSE) on test data = 0.675938\n"
     ]
    }
   ],
   "source": [
    "# Make predictions.\n",
    "predictions = model.transform(testData)\n",
    "evaluator = RegressionEvaluator(\n",
    "    labelCol=label, predictionCol=\"prediction\", metricName=\"r2\")\n",
    "rmse = evaluator.evaluate(predictions)\n",
    "print(\"Root Mean Squared Error (RMSE) on test data = %g\" % rmse)"
   ]
  },
  {
   "cell_type": "code",
   "execution_count": null,
   "id": "8111791d-ccba-43e0-bc8b-89de933cc696",
   "metadata": {},
   "outputs": [],
   "source": [
    "x_ax = range(0, predictions.count())\n",
    "y_pred=predictions.select(\"prediction\").collect()\n",
    "y_orig=predictions.select(label).collect()"
   ]
  },
  {
   "cell_type": "code",
   "execution_count": 152,
   "id": "aee4d328-1cba-4f7b-9b88-d07586e8e335",
   "metadata": {},
   "outputs": [
    {
     "data": {
      "image/png": "[encoded data removed]",
      "text/plain": [
       "<Figure size 432x288 with 1 Axes>"
      ]
     },
     "metadata": {
      "needs_background": "light"
     },
     "output_type": "display_data"
    }
   ],
   "source": [
    "plt.scatter(x_ax, y_orig, label=\"original\")\n",
    "plt.scatter(x_ax, y_pred, label=\"predicted\")\n",
    "plt.title(\"Count passengers test and predicted data\")\n",
    "plt.xlabel('X-axis')\n",
    "plt.ylabel('Y-axis')\n",
    "plt.legend(loc='best',fancybox=True, shadow=True)\n",
    "plt.grid(True)\n",
    "plt.show()"
   ]
  },
  {
   "cell_type": "markdown",
   "id": "27128db3-5712-436b-a929-2f6a3c051fc0",
   "metadata": {},
   "source": []
  },
  {
   "cell_type": "markdown",
   "id": "51aac43b-9e47-4fa0-a894-95bf3cba086e",
   "metadata": {},
   "source": [
    "CrossValidator"
   ]
  },
  {
   "cell_type": "code",
   "execution_count": 132,
   "id": "4a24a0ef-8b69-4f95-bde8-cac8973b7109",
   "metadata": {},
   "outputs": [],
   "source": [
    "from pyspark.ml.tuning import ParamGridBuilder, CrossValidator"
   ]
  },
  {
   "cell_type": "code",
   "execution_count": 133,
   "id": "4bf7af7b-634c-4417-8f61-613c27ba3a0a",
   "metadata": {},
   "outputs": [],
   "source": [
    "# Create an empty parameter grid\n",
    "params = ParamGridBuilder()\n",
    "# Add grids for two parameters\n",
    "params = params.addGrid(lr.regParam, [0.01, 0.1, 1.0])\\\n",
    "               .addGrid(lr.elasticNetParam, [0.0, 0.5, 1.0])"
   ]
  },
  {
   "cell_type": "code",
   "execution_count": 134,
   "id": "6249e432-7edc-4661-bab4-1f2db2821cde",
   "metadata": {},
   "outputs": [
    {
     "name": "stdout",
     "output_type": "stream",
     "text": [
      "Number of models to be tested:  9\n"
     ]
    }
   ],
   "source": [
    "# Build the parameter grid\n",
    "params = params.build()\n",
    "print('Number of models to be tested: ', len(params))"
   ]
  },
  {
   "cell_type": "code",
   "execution_count": 135,
   "id": "f9870ad8-9add-4f86-9933-203790e788f5",
   "metadata": {},
   "outputs": [],
   "source": [
    "pipeline = Pipeline(stages=[si_indexer, encoder, assembler])\n",
    "model_scaled = pipeline.fit(trainingData)\n",
    "trainingData_scaled = model_scaled.transform(trainingData)"
   ]
  },
  {
   "cell_type": "code",
   "execution_count": 136,
   "id": "370103c9-d05d-4b31-baef-e201c20c58d3",
   "metadata": {},
   "outputs": [],
   "source": [
    "testData_scaled =  model_scaled.transform(testData)"
   ]
  },
  {
   "cell_type": "code",
   "execution_count": 139,
   "id": "a738e103-20fa-46a8-ae8e-f27b13b051f5",
   "metadata": {},
   "outputs": [],
   "source": [
    "regression = LinearRegression(labelCol=label)\n",
    "evaluator = RegressionEvaluator(\n",
    "    labelCol=label, predictionCol=\"prediction\", metricName=\"r2\")"
   ]
  },
  {
   "cell_type": "code",
   "execution_count": null,
   "id": "e62a148a-0539-4ba0-bd1b-66d6e05baac2",
   "metadata": {},
   "outputs": [],
   "source": [
    "cv = CrossValidator(estimator=regression, estimatorParamMaps=params, \n",
    "                    evaluator=evaluator, numFolds=5)\n",
    "\n",
    "cv_model = cv.fit(trainingData_scaled)"
   ]
  },
  {
   "cell_type": "code",
   "execution_count": null,
   "id": "601afffc-dd18-4384-a332-3c0e3ec785dc",
   "metadata": {},
   "outputs": [],
   "source": []
  },
  {
   "cell_type": "code",
   "execution_count": null,
   "id": "66c20595-844c-4873-8b56-b39438058666",
   "metadata": {},
   "outputs": [],
   "source": [
    "cv_model.bestModel.extractParamMap()"
   ]
  },
  {
   "cell_type": "code",
   "execution_count": null,
   "id": "672da23e-6862-4fe0-8ad2-dce37caed030",
   "metadata": {},
   "outputs": [],
   "source": []
  },
  {
   "cell_type": "code",
   "execution_count": null,
   "id": "6fa53638-0957-4b11-be18-bce63761dae3",
   "metadata": {},
   "outputs": [],
   "source": []
  },
  {
   "cell_type": "code",
   "execution_count": null,
   "id": "e90c378c-35dc-4eef-86aa-4568579de9fd",
   "metadata": {},
   "outputs": [],
   "source": [
    "spark.stop()  "
   ]
  },
  {
   "cell_type": "code",
   "execution_count": null,
   "id": "f002977b-0bc2-44c9-8b8b-6b789fb8f110",
   "metadata": {},
   "outputs": [],
   "source": []
  }
 ],
 "metadata": {
  "kernelspec": {
   "display_name": "Python 3",
   "language": "python",
   "name": "python3"
  },
  "language_info": {
   "codemirror_mode": {
    "name": "ipython",
    "version": 3
   },
   "file_extension": ".py",
   "mimetype": "text/x-python",
   "name": "python",
   "nbconvert_exporter": "python",
   "pygments_lexer": "ipython3",
   "version": "3.6.9"
  }
 },
 "nbformat": 4,
 "nbformat_minor": 5
}
